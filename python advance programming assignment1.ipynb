{
 "cells": [
  {
   "cell_type": "code",
   "execution_count": 1,
   "id": "fa334322",
   "metadata": {
    "scrolled": true
   },
   "outputs": [],
   "source": [
    "'''1. Write a function that takes a list of lists and returns the value of \n",
    "all of the symbols in it, where each symbol adds or takes something from the\n",
    "total score.'''\n",
    "def total_score(l):\n",
    "    d={\"#\":5,\"o\":3,\"x\":1,\"!\":-1,\"!!\":-3,\"!!!\":-5}\n",
    "    c=0\n",
    "    for i in l:\n",
    "        for j in i:\n",
    "            c+=d[j]\n",
    "    if c>=0:\n",
    "        return c\n",
    "    else:\n",
    "        return 0"
   ]
  },
  {
   "cell_type": "code",
   "execution_count": 2,
   "id": "da1b3b95",
   "metadata": {},
   "outputs": [
    {
     "data": {
      "text/plain": [
       "2"
      ]
     },
     "execution_count": 2,
     "metadata": {},
     "output_type": "execute_result"
    }
   ],
   "source": [
    "total_score([[\"#\",\"!\"],[\"!!\",\"x\"]])"
   ]
  },
  {
   "cell_type": "code",
   "execution_count": 3,
   "id": "e3acbf1a",
   "metadata": {},
   "outputs": [
    {
     "data": {
      "text/plain": [
       "0"
      ]
     },
     "execution_count": 3,
     "metadata": {},
     "output_type": "execute_result"
    }
   ],
   "source": [
    "total_score([[\"!!!\",\"o\",\"!\"],[\"x\",\"#\",\"!!!\"],[\"!!\",\"x\",\"o\"]])"
   ]
  },
  {
   "cell_type": "code",
   "execution_count": 4,
   "id": "816e52a7",
   "metadata": {},
   "outputs": [],
   "source": [
    "'''2. Create a function that takes a variable number of arguments, each\n",
    "argument representing the number of items in a group, and returns the\n",
    "number of permutations (combinations) of items that you could get by taking\n",
    "one item from each group.'''\n",
    "def combination(*args):\n",
    "    b=1\n",
    "    for i in args:\n",
    "        c=b*i\n",
    "        b=c\n",
    "    return c\n",
    "    "
   ]
  },
  {
   "cell_type": "code",
   "execution_count": 5,
   "id": "89c1c634",
   "metadata": {},
   "outputs": [
    {
     "data": {
      "text/plain": [
       "600"
      ]
     },
     "execution_count": 5,
     "metadata": {},
     "output_type": "execute_result"
    }
   ],
   "source": [
    "combination(2,3,4,5,5)"
   ]
  },
  {
   "cell_type": "code",
   "execution_count": 6,
   "id": "253f7aef",
   "metadata": {},
   "outputs": [],
   "source": [
    "#3. Create a function that takes a string as an argument and returns the\n",
    "#Morse code equivalent.\n",
    "char_to_dots = {\n",
    "  'A': '.-', 'B': '-...', 'C': '-.-.', 'D': '-..', 'E': '.', 'F': '..-.',\n",
    "  'G': '--.', 'H': '....', 'I': '..', 'J': '.---', 'K': '-.-', 'L': '.-..',\n",
    "  'M': '--', 'N': '-.', 'O': '---', 'P': '.--.', 'Q': '--.-', 'R': '.-.',\n",
    "  'S': '...', 'T': '-', 'U': '..-', 'V': '...-', 'W': '.--', 'X': '-..-',\n",
    "  'Y': '-.--', 'Z': '--..', ' ': ' ', '0': '-----',\n",
    "  '1': '.----', '2': '..---', '3': '...--', '4': '....-', '5': '.....',\n",
    "  '6': '-....', '7': '--...', '8': '---..', '9': '----.',\n",
    "  '&': '.-...', \"'\": '.----.', '@': '.--.-.', ')': '-.--.-', '(': '-.--.',\n",
    "  ':': '---...', ',': '--..--', '=': '-...-', '!': '-.-.--', '.': '.-.-.-',\n",
    "  '-': '-....-', '+': '.-.-.', '\"': '.-..-.', '?': '..--..', '/': '-..-.',\n",
    "    }\n",
    "def morse(s):\n",
    "    d=\"\"\n",
    "    for i in s:\n",
    "        d+=char_to_dots[i]+\" \"\n",
    "    return d.strip()\n",
    "        \n"
   ]
  },
  {
   "cell_type": "code",
   "execution_count": 7,
   "id": "9a70fcb6",
   "metadata": {},
   "outputs": [
    {
     "data": {
      "text/plain": [
       "'.... . .-.. .--.   -- .   -.-.--'"
      ]
     },
     "execution_count": 7,
     "metadata": {},
     "output_type": "execute_result"
    }
   ],
   "source": [
    "morse(\"HELP ME !\")"
   ]
  },
  {
   "cell_type": "code",
   "execution_count": 8,
   "id": "8ff95c7d",
   "metadata": {},
   "outputs": [],
   "source": [
    "'''4. Write a function that takes a number and returns True if it's a prime;\n",
    "False otherwise. The number can be 2^64-1 (2 to the power of 63, not XOR). \n",
    "With the standard technique it would be O(2^64-1), which is much too large\n",
    "for the 10 second time limit.'''\n",
    "def prime(n):\n",
    "    c=0\n",
    "    for i in range(2,n//2+1):\n",
    "        if n%i==0:\n",
    "            c=1\n",
    "            break\n",
    "    if c==1:\n",
    "        return False\n",
    "    else:\n",
    "        return True         "
   ]
  },
  {
   "cell_type": "code",
   "execution_count": 9,
   "id": "dc850fa0",
   "metadata": {},
   "outputs": [
    {
     "data": {
      "text/plain": [
       "True"
      ]
     },
     "execution_count": 9,
     "metadata": {},
     "output_type": "execute_result"
    }
   ],
   "source": [
    "prime(9973)"
   ]
  },
  {
   "cell_type": "code",
   "execution_count": 10,
   "id": "459d39b5",
   "metadata": {},
   "outputs": [],
   "source": [
    "'''5. Create a function that converts a word to a bitstring and then to a \n",
    "boolean list based on the following criteria:\n",
    "1. Locate the position of the letter in the English alphabet (from 1 to 26).\n",
    "2. Odd positions will be represented as 1 and 0 otherwise.\n",
    "3. Convert the represented positions to boolean values, 1 for True and 0\n",
    "for False.\n",
    "4. Store the conversions into an array.\n",
    "'''\n",
    "s=\"abcdefghijklmnopqrstuvwxyz\"\n",
    "def wtb(e):\n",
    "    l=[]\n",
    "    for i in e:\n",
    "        if(s.index(i)+1)%2==0:\n",
    "            l.append(False)\n",
    "        else:\n",
    "            l.append(True) \n",
    "    return l"
   ]
  },
  {
   "cell_type": "code",
   "execution_count": 11,
   "id": "5fa7197d",
   "metadata": {},
   "outputs": [
    {
     "data": {
      "text/plain": [
       "[False, True, False, True, True]"
      ]
     },
     "execution_count": 11,
     "metadata": {},
     "output_type": "execute_result"
    }
   ],
   "source": [
    "wtb(\"loves\")"
   ]
  }
 ],
 "metadata": {
  "kernelspec": {
   "display_name": "Python 3 (ipykernel)",
   "language": "python",
   "name": "python3"
  },
  "language_info": {
   "codemirror_mode": {
    "name": "ipython",
    "version": 3
   },
   "file_extension": ".py",
   "mimetype": "text/x-python",
   "name": "python",
   "nbconvert_exporter": "python",
   "pygments_lexer": "ipython3",
   "version": "3.10.9"
  }
 },
 "nbformat": 4,
 "nbformat_minor": 5
}
